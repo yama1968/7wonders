{
 "cells": [
  {
   "cell_type": "code",
   "execution_count": 1,
   "metadata": {
    "collapsed": true
   },
   "outputs": [],
   "source": [
    "%matplotlib inline\n",
    "import scipy.stats as stats\n",
    "from IPython.core.pylabtools import figsize\n",
    "import numpy as np\n",
    "import pandas as pd\n",
    "figsize(12.5, 4)\n",
    "\n",
    "import matplotlib.pyplot as plt\n",
    "from mpl_toolkits.mplot3d import Axes3D"
   ]
  },
  {
   "cell_type": "code",
   "execution_count": 4,
   "metadata": {
    "collapsed": false
   },
   "outputs": [
    {
     "data": {
      "text/html": [
       "<div>\n",
       "<table border=\"1\" class=\"dataframe\">\n",
       "  <thead>\n",
       "    <tr style=\"text-align: right;\">\n",
       "      <th></th>\n",
       "      <th>Partie</th>\n",
       "      <th>Nb joueurs</th>\n",
       "      <th>Date</th>\n",
       "      <th>Joueur</th>\n",
       "      <th>Ville</th>\n",
       "      <th>Côté</th>\n",
       "      <th>Extension</th>\n",
       "      <th>Rouge</th>\n",
       "      <th>Argent</th>\n",
       "      <th>Merveille</th>\n",
       "      <th>Bleu</th>\n",
       "      <th>Jaune</th>\n",
       "      <th>Violet</th>\n",
       "      <th>Vert</th>\n",
       "      <th>Total</th>\n",
       "      <th>Rang</th>\n",
       "      <th>Rang relatif</th>\n",
       "      <th>Vainqueur</th>\n",
       "    </tr>\n",
       "  </thead>\n",
       "  <tbody>\n",
       "    <tr>\n",
       "      <th>0</th>\n",
       "      <td>1</td>\n",
       "      <td>4</td>\n",
       "      <td>NaN</td>\n",
       "      <td>S</td>\n",
       "      <td>NaN</td>\n",
       "      <td>NaN</td>\n",
       "      <td>base</td>\n",
       "      <td>1</td>\n",
       "      <td>4</td>\n",
       "      <td>10</td>\n",
       "      <td>5</td>\n",
       "      <td>7</td>\n",
       "      <td>0</td>\n",
       "      <td>10</td>\n",
       "      <td>37</td>\n",
       "      <td>4</td>\n",
       "      <td>100%</td>\n",
       "      <td>0</td>\n",
       "    </tr>\n",
       "    <tr>\n",
       "      <th>1</th>\n",
       "      <td>1</td>\n",
       "      <td>4</td>\n",
       "      <td>NaN</td>\n",
       "      <td>L</td>\n",
       "      <td>NaN</td>\n",
       "      <td>NaN</td>\n",
       "      <td>base</td>\n",
       "      <td>-6</td>\n",
       "      <td>3</td>\n",
       "      <td>10</td>\n",
       "      <td>13</td>\n",
       "      <td>0</td>\n",
       "      <td>7</td>\n",
       "      <td>13</td>\n",
       "      <td>40</td>\n",
       "      <td>3</td>\n",
       "      <td>67%</td>\n",
       "      <td>0</td>\n",
       "    </tr>\n",
       "    <tr>\n",
       "      <th>2</th>\n",
       "      <td>1</td>\n",
       "      <td>4</td>\n",
       "      <td>NaN</td>\n",
       "      <td>C</td>\n",
       "      <td>NaN</td>\n",
       "      <td>NaN</td>\n",
       "      <td>base</td>\n",
       "      <td>13</td>\n",
       "      <td>1</td>\n",
       "      <td>10</td>\n",
       "      <td>9</td>\n",
       "      <td>3</td>\n",
       "      <td>9</td>\n",
       "      <td>4</td>\n",
       "      <td>49</td>\n",
       "      <td>2</td>\n",
       "      <td>33%</td>\n",
       "      <td>0</td>\n",
       "    </tr>\n",
       "    <tr>\n",
       "      <th>3</th>\n",
       "      <td>1</td>\n",
       "      <td>4</td>\n",
       "      <td>NaN</td>\n",
       "      <td>A</td>\n",
       "      <td>NaN</td>\n",
       "      <td>NaN</td>\n",
       "      <td>base</td>\n",
       "      <td>12</td>\n",
       "      <td>1</td>\n",
       "      <td>10</td>\n",
       "      <td>26</td>\n",
       "      <td>3</td>\n",
       "      <td>9</td>\n",
       "      <td>0</td>\n",
       "      <td>61</td>\n",
       "      <td>1</td>\n",
       "      <td>0%</td>\n",
       "      <td>1</td>\n",
       "    </tr>\n",
       "    <tr>\n",
       "      <th>4</th>\n",
       "      <td>2</td>\n",
       "      <td>5</td>\n",
       "      <td>24/10/2015</td>\n",
       "      <td>A</td>\n",
       "      <td>NaN</td>\n",
       "      <td>NaN</td>\n",
       "      <td>base</td>\n",
       "      <td>-5</td>\n",
       "      <td>3</td>\n",
       "      <td>10</td>\n",
       "      <td>12</td>\n",
       "      <td>0</td>\n",
       "      <td>9</td>\n",
       "      <td>21</td>\n",
       "      <td>50</td>\n",
       "      <td>3</td>\n",
       "      <td>50%</td>\n",
       "      <td>0</td>\n",
       "    </tr>\n",
       "  </tbody>\n",
       "</table>\n",
       "</div>"
      ],
      "text/plain": [
       "   Partie  Nb joueurs        Date Joueur Ville Côté Extension  Rouge  Argent  \\\n",
       "0       1           4         NaN      S   NaN  NaN      base      1       4   \n",
       "1       1           4         NaN      L   NaN  NaN      base     -6       3   \n",
       "2       1           4         NaN      C   NaN  NaN      base     13       1   \n",
       "3       1           4         NaN      A   NaN  NaN      base     12       1   \n",
       "4       2           5  24/10/2015      A   NaN  NaN      base     -5       3   \n",
       "\n",
       "   Merveille  Bleu  Jaune  Violet  Vert  Total  Rang Rang relatif  Vainqueur  \n",
       "0         10     5      7       0    10     37     4         100%          0  \n",
       "1         10    13      0       7    13     40     3          67%          0  \n",
       "2         10     9      3       9     4     49     2          33%          0  \n",
       "3         10    26      3       9     0     61     1           0%          1  \n",
       "4         10    12      0       9    21     50     3          50%          0  "
      ]
     },
     "execution_count": 4,
     "metadata": {},
     "output_type": "execute_result"
    }
   ],
   "source": [
    "scores = pd.read_csv(\"../data/Scores 7 Wonders - Scores.csv\")\n",
    "scores.head()"
   ]
  },
  {
   "cell_type": "code",
   "execution_count": 5,
   "metadata": {
    "collapsed": false
   },
   "outputs": [
    {
     "data": {
      "text/plain": [
       "Index([u'Partie', u'Nb joueurs', u'Date', u'Joueur', u'Ville', u'Côté',\n",
       "       u'Extension', u'Rouge', u'Argent', u'Merveille', u'Bleu', u'Jaune',\n",
       "       u'Violet', u'Vert', u'Total', u'Rang', u'Rang relatif', u'Vainqueur'],\n",
       "      dtype='object')"
      ]
     },
     "execution_count": 5,
     "metadata": {},
     "output_type": "execute_result"
    }
   ],
   "source": [
    "scores.columns"
   ]
  },
  {
   "cell_type": "code",
   "execution_count": null,
   "metadata": {
    "collapsed": true
   },
   "outputs": [],
   "source": [
    "couleurs = scores[[u'Rouge', u'Argent', u'Merveille', u'Bleu', u'Jaune',\n",
    "       u'Violet', u'Vert']]\n",
    "couleurs_r = couleurs.divide(couleurs.sum(axis=0))\n",
    "couleurs_r.head()"
   ]
  }
 ],
 "metadata": {
  "kernelspec": {
   "display_name": "Python 2",
   "language": "python",
   "name": "python2"
  },
  "language_info": {
   "codemirror_mode": {
    "name": "ipython",
    "version": 2
   },
   "file_extension": ".py",
   "mimetype": "text/x-python",
   "name": "python",
   "nbconvert_exporter": "python",
   "pygments_lexer": "ipython2",
   "version": "2.7.10"
  }
 },
 "nbformat": 4,
 "nbformat_minor": 0
}
