{
 "cells": [
  {
   "cell_type": "code",
   "execution_count": 7,
   "metadata": {
    "collapsed": false
   },
   "outputs": [],
   "source": [
    "%matplotlib inline\n",
    "import scipy.stats as stats\n",
    "from IPython.core.pylabtools import figsize\n",
    "import numpy as np\n",
    "import pandas as pd\n",
    "figsize(12.5, 8)\n",
    "\n",
    "import matplotlib.pyplot as plt\n",
    "\n"
   ]
  },
  {
   "cell_type": "code",
   "execution_count": 8,
   "metadata": {
    "collapsed": false
   },
   "outputs": [
    {
     "data": {
      "text/html": [
       "<div>\n",
       "<table border=\"1\" class=\"dataframe\">\n",
       "  <thead>\n",
       "    <tr style=\"text-align: right;\">\n",
       "      <th></th>\n",
       "      <th>Partie</th>\n",
       "      <th>Nb joueurs</th>\n",
       "      <th>Date</th>\n",
       "      <th>Extension</th>\n",
       "      <th>Joueur</th>\n",
       "      <th>Ville</th>\n",
       "      <th>Côté</th>\n",
       "      <th>Rouge</th>\n",
       "      <th>Argent</th>\n",
       "      <th>Merveille</th>\n",
       "      <th>Bleu</th>\n",
       "      <th>Jaune</th>\n",
       "      <th>Violet</th>\n",
       "      <th>Vert</th>\n",
       "      <th>Leaders</th>\n",
       "      <th>Total</th>\n",
       "      <th>Rang</th>\n",
       "      <th>Rang relatif</th>\n",
       "      <th>Vainqueur</th>\n",
       "    </tr>\n",
       "  </thead>\n",
       "  <tbody>\n",
       "    <tr>\n",
       "      <th>0</th>\n",
       "      <td>1</td>\n",
       "      <td>4</td>\n",
       "      <td>NaN</td>\n",
       "      <td>base</td>\n",
       "      <td>S</td>\n",
       "      <td>NaN</td>\n",
       "      <td>NaN</td>\n",
       "      <td>1</td>\n",
       "      <td>4</td>\n",
       "      <td>10</td>\n",
       "      <td>5</td>\n",
       "      <td>7</td>\n",
       "      <td>0</td>\n",
       "      <td>10</td>\n",
       "      <td>NaN</td>\n",
       "      <td>37</td>\n",
       "      <td>4</td>\n",
       "      <td>-1.00</td>\n",
       "      <td>0</td>\n",
       "    </tr>\n",
       "    <tr>\n",
       "      <th>1</th>\n",
       "      <td>1</td>\n",
       "      <td>4</td>\n",
       "      <td>NaN</td>\n",
       "      <td>base</td>\n",
       "      <td>L</td>\n",
       "      <td>NaN</td>\n",
       "      <td>NaN</td>\n",
       "      <td>-6</td>\n",
       "      <td>3</td>\n",
       "      <td>10</td>\n",
       "      <td>13</td>\n",
       "      <td>0</td>\n",
       "      <td>7</td>\n",
       "      <td>13</td>\n",
       "      <td>NaN</td>\n",
       "      <td>40</td>\n",
       "      <td>3</td>\n",
       "      <td>-0.67</td>\n",
       "      <td>0</td>\n",
       "    </tr>\n",
       "    <tr>\n",
       "      <th>2</th>\n",
       "      <td>1</td>\n",
       "      <td>4</td>\n",
       "      <td>NaN</td>\n",
       "      <td>base</td>\n",
       "      <td>C</td>\n",
       "      <td>NaN</td>\n",
       "      <td>NaN</td>\n",
       "      <td>13</td>\n",
       "      <td>1</td>\n",
       "      <td>10</td>\n",
       "      <td>9</td>\n",
       "      <td>3</td>\n",
       "      <td>9</td>\n",
       "      <td>4</td>\n",
       "      <td>NaN</td>\n",
       "      <td>49</td>\n",
       "      <td>2</td>\n",
       "      <td>-0.33</td>\n",
       "      <td>0</td>\n",
       "    </tr>\n",
       "    <tr>\n",
       "      <th>3</th>\n",
       "      <td>1</td>\n",
       "      <td>4</td>\n",
       "      <td>NaN</td>\n",
       "      <td>base</td>\n",
       "      <td>A</td>\n",
       "      <td>NaN</td>\n",
       "      <td>NaN</td>\n",
       "      <td>12</td>\n",
       "      <td>1</td>\n",
       "      <td>10</td>\n",
       "      <td>26</td>\n",
       "      <td>3</td>\n",
       "      <td>9</td>\n",
       "      <td>0</td>\n",
       "      <td>NaN</td>\n",
       "      <td>61</td>\n",
       "      <td>1</td>\n",
       "      <td>-0.00</td>\n",
       "      <td>1</td>\n",
       "    </tr>\n",
       "    <tr>\n",
       "      <th>4</th>\n",
       "      <td>2</td>\n",
       "      <td>5</td>\n",
       "      <td>24/10/2015</td>\n",
       "      <td>base</td>\n",
       "      <td>A</td>\n",
       "      <td>NaN</td>\n",
       "      <td>NaN</td>\n",
       "      <td>-5</td>\n",
       "      <td>3</td>\n",
       "      <td>10</td>\n",
       "      <td>12</td>\n",
       "      <td>0</td>\n",
       "      <td>9</td>\n",
       "      <td>21</td>\n",
       "      <td>NaN</td>\n",
       "      <td>50</td>\n",
       "      <td>3</td>\n",
       "      <td>-0.50</td>\n",
       "      <td>0</td>\n",
       "    </tr>\n",
       "  </tbody>\n",
       "</table>\n",
       "</div>"
      ],
      "text/plain": [
       "   Partie  Nb joueurs        Date Extension Joueur Ville Côté  Rouge  Argent  \\\n",
       "0       1           4         NaN      base      S   NaN  NaN      1       4   \n",
       "1       1           4         NaN      base      L   NaN  NaN     -6       3   \n",
       "2       1           4         NaN      base      C   NaN  NaN     13       1   \n",
       "3       1           4         NaN      base      A   NaN  NaN     12       1   \n",
       "4       2           5  24/10/2015      base      A   NaN  NaN     -5       3   \n",
       "\n",
       "   Merveille  Bleu  Jaune  Violet  Vert  Leaders  Total  Rang  Rang relatif  \\\n",
       "0         10     5      7       0    10      NaN     37     4         -1.00   \n",
       "1         10    13      0       7    13      NaN     40     3         -0.67   \n",
       "2         10     9      3       9     4      NaN     49     2         -0.33   \n",
       "3         10    26      3       9     0      NaN     61     1         -0.00   \n",
       "4         10    12      0       9    21      NaN     50     3         -0.50   \n",
       "\n",
       "   Vainqueur  \n",
       "0          0  \n",
       "1          0  \n",
       "2          0  \n",
       "3          1  \n",
       "4          0  "
      ]
     },
     "execution_count": 8,
     "metadata": {},
     "output_type": "execute_result"
    }
   ],
   "source": [
    "scores = pd.read_csv(\"../data/Scores 7 Wonders - Scores.csv\")\n",
    "scores[\"Rang relatif\"] = -(scores[\"Rang relatif\"].str[:-1].astype(float) / 100)\n",
    "scores.head()"
   ]
  },
  {
   "cell_type": "code",
   "execution_count": 9,
   "metadata": {
    "collapsed": false
   },
   "outputs": [
    {
     "data": {
      "text/plain": [
       "Index(['Partie', 'Nb joueurs', 'Date', 'Extension', 'Joueur', 'Ville', 'Côté',\n",
       "       'Rouge', 'Argent', 'Merveille', 'Bleu', 'Jaune', 'Violet', 'Vert',\n",
       "       'Leaders', 'Total', 'Rang', 'Rang relatif', 'Vainqueur'],\n",
       "      dtype='object')"
      ]
     },
     "execution_count": 9,
     "metadata": {},
     "output_type": "execute_result"
    }
   ],
   "source": [
    "scores.columns"
   ]
  },
  {
   "cell_type": "code",
   "execution_count": 21,
   "metadata": {
    "collapsed": false
   },
   "outputs": [
    {
     "data": {
      "text/html": [
       "<div>\n",
       "<table border=\"1\" class=\"dataframe\">\n",
       "  <thead>\n",
       "    <tr style=\"text-align: right;\">\n",
       "      <th></th>\n",
       "      <th></th>\n",
       "      <th>Rouge</th>\n",
       "      <th>Argent</th>\n",
       "      <th>Merveille</th>\n",
       "      <th>Bleu</th>\n",
       "      <th>Jaune</th>\n",
       "      <th>Violet</th>\n",
       "      <th>Vert</th>\n",
       "    </tr>\n",
       "    <tr>\n",
       "      <th>Partie</th>\n",
       "      <th>Joueur</th>\n",
       "      <th></th>\n",
       "      <th></th>\n",
       "      <th></th>\n",
       "      <th></th>\n",
       "      <th></th>\n",
       "      <th></th>\n",
       "      <th></th>\n",
       "    </tr>\n",
       "  </thead>\n",
       "  <tbody>\n",
       "    <tr>\n",
       "      <th rowspan=\"4\" valign=\"top\">1</th>\n",
       "      <th>S</th>\n",
       "      <td>0.027027</td>\n",
       "      <td>0.108108</td>\n",
       "      <td>0.270270</td>\n",
       "      <td>0.135135</td>\n",
       "      <td>0.189189</td>\n",
       "      <td>0.000000</td>\n",
       "      <td>0.270270</td>\n",
       "    </tr>\n",
       "    <tr>\n",
       "      <th>L</th>\n",
       "      <td>-0.150000</td>\n",
       "      <td>0.075000</td>\n",
       "      <td>0.250000</td>\n",
       "      <td>0.325000</td>\n",
       "      <td>0.000000</td>\n",
       "      <td>0.175000</td>\n",
       "      <td>0.325000</td>\n",
       "    </tr>\n",
       "    <tr>\n",
       "      <th>C</th>\n",
       "      <td>0.265306</td>\n",
       "      <td>0.020408</td>\n",
       "      <td>0.204082</td>\n",
       "      <td>0.183673</td>\n",
       "      <td>0.061224</td>\n",
       "      <td>0.183673</td>\n",
       "      <td>0.081633</td>\n",
       "    </tr>\n",
       "    <tr>\n",
       "      <th>A</th>\n",
       "      <td>0.196721</td>\n",
       "      <td>0.016393</td>\n",
       "      <td>0.163934</td>\n",
       "      <td>0.426230</td>\n",
       "      <td>0.049180</td>\n",
       "      <td>0.147541</td>\n",
       "      <td>0.000000</td>\n",
       "    </tr>\n",
       "    <tr>\n",
       "      <th>2</th>\n",
       "      <th>A</th>\n",
       "      <td>-0.100000</td>\n",
       "      <td>0.060000</td>\n",
       "      <td>0.200000</td>\n",
       "      <td>0.240000</td>\n",
       "      <td>0.000000</td>\n",
       "      <td>0.180000</td>\n",
       "      <td>0.420000</td>\n",
       "    </tr>\n",
       "  </tbody>\n",
       "</table>\n",
       "</div>"
      ],
      "text/plain": [
       "                  Rouge    Argent  Merveille      Bleu     Jaune    Violet  \\\n",
       "Partie Joueur                                                                \n",
       "1      S       0.027027  0.108108   0.270270  0.135135  0.189189  0.000000   \n",
       "       L      -0.150000  0.075000   0.250000  0.325000  0.000000  0.175000   \n",
       "       C       0.265306  0.020408   0.204082  0.183673  0.061224  0.183673   \n",
       "       A       0.196721  0.016393   0.163934  0.426230  0.049180  0.147541   \n",
       "2      A      -0.100000  0.060000   0.200000  0.240000  0.000000  0.180000   \n",
       "\n",
       "                   Vert  \n",
       "Partie Joueur            \n",
       "1      S       0.270270  \n",
       "       L       0.325000  \n",
       "       C       0.081633  \n",
       "       A       0.000000  \n",
       "2      A       0.420000  "
      ]
     },
     "execution_count": 21,
     "metadata": {},
     "output_type": "execute_result"
    }
   ],
   "source": [
    "couleurs = scores.set_index([\"Partie\", \"Joueur\"])[[u'Rouge', u'Argent', u'Merveille', u'Bleu', u'Jaune',\n",
    "       u'Violet', u'Vert']]\n",
    "couleurs_r = couleurs.divide(couleurs.sum(axis = 1), axis = 0)\n",
    "couleurs_r.head()"
   ]
  },
  {
   "cell_type": "code",
   "execution_count": 22,
   "metadata": {
    "collapsed": false
   },
   "outputs": [
    {
     "data": {
      "text/html": [
       "<div>\n",
       "<table border=\"1\" class=\"dataframe\">\n",
       "  <thead>\n",
       "    <tr style=\"text-align: right;\">\n",
       "      <th></th>\n",
       "      <th>Partie</th>\n",
       "      <th>Joueur</th>\n",
       "      <th>Nb joueurs</th>\n",
       "      <th>Rang relatif</th>\n",
       "      <th>Vainqueur</th>\n",
       "      <th>Extension</th>\n",
       "      <th>Leaders</th>\n",
       "      <th>Rouge</th>\n",
       "      <th>Argent</th>\n",
       "      <th>Merveille</th>\n",
       "      <th>Bleu</th>\n",
       "      <th>Jaune</th>\n",
       "      <th>Violet</th>\n",
       "      <th>Vert</th>\n",
       "    </tr>\n",
       "  </thead>\n",
       "  <tbody>\n",
       "    <tr>\n",
       "      <th>0</th>\n",
       "      <td>1</td>\n",
       "      <td>S</td>\n",
       "      <td>4</td>\n",
       "      <td>-1.00</td>\n",
       "      <td>0</td>\n",
       "      <td>base</td>\n",
       "      <td>NaN</td>\n",
       "      <td>0.027027</td>\n",
       "      <td>0.108108</td>\n",
       "      <td>0.270270</td>\n",
       "      <td>0.135135</td>\n",
       "      <td>0.189189</td>\n",
       "      <td>0.000000</td>\n",
       "      <td>0.270270</td>\n",
       "    </tr>\n",
       "    <tr>\n",
       "      <th>1</th>\n",
       "      <td>1</td>\n",
       "      <td>L</td>\n",
       "      <td>4</td>\n",
       "      <td>-0.67</td>\n",
       "      <td>0</td>\n",
       "      <td>base</td>\n",
       "      <td>NaN</td>\n",
       "      <td>-0.150000</td>\n",
       "      <td>0.075000</td>\n",
       "      <td>0.250000</td>\n",
       "      <td>0.325000</td>\n",
       "      <td>0.000000</td>\n",
       "      <td>0.175000</td>\n",
       "      <td>0.325000</td>\n",
       "    </tr>\n",
       "    <tr>\n",
       "      <th>2</th>\n",
       "      <td>1</td>\n",
       "      <td>C</td>\n",
       "      <td>4</td>\n",
       "      <td>-0.33</td>\n",
       "      <td>0</td>\n",
       "      <td>base</td>\n",
       "      <td>NaN</td>\n",
       "      <td>0.265306</td>\n",
       "      <td>0.020408</td>\n",
       "      <td>0.204082</td>\n",
       "      <td>0.183673</td>\n",
       "      <td>0.061224</td>\n",
       "      <td>0.183673</td>\n",
       "      <td>0.081633</td>\n",
       "    </tr>\n",
       "    <tr>\n",
       "      <th>3</th>\n",
       "      <td>1</td>\n",
       "      <td>A</td>\n",
       "      <td>4</td>\n",
       "      <td>-0.00</td>\n",
       "      <td>1</td>\n",
       "      <td>base</td>\n",
       "      <td>NaN</td>\n",
       "      <td>0.196721</td>\n",
       "      <td>0.016393</td>\n",
       "      <td>0.163934</td>\n",
       "      <td>0.426230</td>\n",
       "      <td>0.049180</td>\n",
       "      <td>0.147541</td>\n",
       "      <td>0.000000</td>\n",
       "    </tr>\n",
       "    <tr>\n",
       "      <th>4</th>\n",
       "      <td>2</td>\n",
       "      <td>A</td>\n",
       "      <td>5</td>\n",
       "      <td>-0.50</td>\n",
       "      <td>0</td>\n",
       "      <td>base</td>\n",
       "      <td>NaN</td>\n",
       "      <td>-0.100000</td>\n",
       "      <td>0.060000</td>\n",
       "      <td>0.200000</td>\n",
       "      <td>0.240000</td>\n",
       "      <td>0.000000</td>\n",
       "      <td>0.180000</td>\n",
       "      <td>0.420000</td>\n",
       "    </tr>\n",
       "  </tbody>\n",
       "</table>\n",
       "</div>"
      ],
      "text/plain": [
       "   Partie Joueur  Nb joueurs  Rang relatif  Vainqueur Extension  Leaders  \\\n",
       "0       1      S           4         -1.00          0      base      NaN   \n",
       "1       1      L           4         -0.67          0      base      NaN   \n",
       "2       1      C           4         -0.33          0      base      NaN   \n",
       "3       1      A           4         -0.00          1      base      NaN   \n",
       "4       2      A           5         -0.50          0      base      NaN   \n",
       "\n",
       "      Rouge    Argent  Merveille      Bleu     Jaune    Violet      Vert  \n",
       "0  0.027027  0.108108   0.270270  0.135135  0.189189  0.000000  0.270270  \n",
       "1 -0.150000  0.075000   0.250000  0.325000  0.000000  0.175000  0.325000  \n",
       "2  0.265306  0.020408   0.204082  0.183673  0.061224  0.183673  0.081633  \n",
       "3  0.196721  0.016393   0.163934  0.426230  0.049180  0.147541  0.000000  \n",
       "4 -0.100000  0.060000   0.200000  0.240000  0.000000  0.180000  0.420000  "
      ]
     },
     "execution_count": 22,
     "metadata": {},
     "output_type": "execute_result"
    }
   ],
   "source": [
    "df = pd.merge(scores[[\"Nb joueurs\", \"Rang relatif\", \"Vainqueur\", \"Partie\", \"Joueur\", \"Extension\", \"Leaders\"]], \n",
    "              couleurs_r.reset_index(),\n",
    "              on = [\"Partie\", \"Joueur\"]).set_index([\"Partie\", \"Joueur\"])\n",
    "\n",
    "df = df.reset_index()\n",
    "\n",
    "df.head()"
   ]
  },
  {
   "cell_type": "code",
   "execution_count": 24,
   "metadata": {
    "collapsed": false
   },
   "outputs": [
    {
     "data": {
      "image/png": "[encoded data removed]",
      "text/plain": [
       "<matplotlib.figure.Figure at 0x7f0f75f83fd0>"
      ]
     },
     "metadata": {},
     "output_type": "display_data"
    }
   ],
   "source": [
    "import seaborn as sns\n",
    "\n",
    "_ = sns.heatmap(df.corr(), square = True)"
   ]
  },
  {
   "cell_type": "code",
   "execution_count": 39,
   "metadata": {
    "collapsed": false
   },
   "outputs": [
    {
     "data": {
      "image/png": "[encoded data removed]",
      "text/plain": [
       "<matplotlib.figure.Figure at 0x7f0f75649390>"
      ]
     },
     "metadata": {},
     "output_type": "display_data"
    }
   ],
   "source": [
    "from IPython.html.widgets import interact\n",
    "\n",
    "mx = df.Partie.max()\n",
    "print(mx)\n",
    "\n",
    "@interact\n",
    "def plot(PourcentageParties = (0., 1.), Ext = (\"base\", \"leaders\", \"both\")):\n",
    "    Ext = [\"base\", \"leaders\"] if Ext == \"both\" else [Ext]\n",
    "    _ = sns.heatmap(df[(df.Extension.isin(Ext)) & (df.Partie >= mx * (1-PourcentageParties))].corr(), square = True)"
   ]
  },
  {
   "cell_type": "code",
   "execution_count": 14,
   "metadata": {
    "collapsed": false
   },
   "outputs": [
    {
     "data": {
      "text/plain": [
       "65"
      ]
     },
     "execution_count": 14,
     "metadata": {},
     "output_type": "execute_result"
    }
   ],
   "source": [
    "df.Partie.max()"
   ]
  },
  {
   "cell_type": "code",
   "execution_count": 15,
   "metadata": {
    "collapsed": false
   },
   "outputs": [
    {
     "data": {
      "image/png": "[encoded data removed]",
      "text/plain": [
       "<matplotlib.figure.Figure at 0x7f0f75781518>"
      ]
     },
     "metadata": {},
     "output_type": "display_data"
    }
   ],
   "source": [
    "_ = sns.heatmap(df[df.Vert > 0.2].corr(), square = True)"
   ]
  },
  {
   "cell_type": "code",
   "execution_count": 26,
   "metadata": {
    "collapsed": false
   },
   "outputs": [
    {
     "data": {
      "image/png": "[encoded data removed]",
      "text/plain": [
       "<matplotlib.figure.Figure at 0x7f0f72aafb00>"
      ]
     },
     "metadata": {},
     "output_type": "display_data"
    }
   ],
   "source": [
    "_ = sns.heatmap(df[(df.Vert > 0.2) & (df.Partie >30)].corr(), square = True)"
   ]
  },
  {
   "cell_type": "code",
   "execution_count": 17,
   "metadata": {
    "collapsed": false
   },
   "outputs": [
    {
     "ename": "ImportError",
     "evalue": "No module named 'biokit'",
     "output_type": "error",
     "traceback": [
      "\u001b[1;31m---------------------------------------------------------------------------\u001b[0m",
      "\u001b[1;31mImportError\u001b[0m                               Traceback (most recent call last)",
      "\u001b[1;32m<ipython-input-17-1b442f6f611c>\u001b[0m in \u001b[0;36m<module>\u001b[1;34m()\u001b[0m\n\u001b[1;32m----> 1\u001b[1;33m \u001b[1;32mfrom\u001b[0m \u001b[0mbiokit\u001b[0m\u001b[1;33m.\u001b[0m\u001b[0mviz\u001b[0m \u001b[1;32mimport\u001b[0m \u001b[0mcorrplot\u001b[0m\u001b[1;33m\u001b[0m\u001b[0m\n\u001b[0m\u001b[0;32m      2\u001b[0m \u001b[1;33m\u001b[0m\u001b[0m\n\u001b[0;32m      3\u001b[0m \u001b[0mc1\u001b[0m \u001b[1;33m=\u001b[0m \u001b[0mcorrplot\u001b[0m\u001b[1;33m.\u001b[0m\u001b[0mCorrplot\u001b[0m\u001b[1;33m(\u001b[0m\u001b[0mdf\u001b[0m\u001b[1;33m[\u001b[0m\u001b[0mdf\u001b[0m\u001b[1;33m.\u001b[0m\u001b[0mVainqueur\u001b[0m \u001b[1;33m==\u001b[0m \u001b[1;36m1\u001b[0m\u001b[1;33m]\u001b[0m\u001b[1;33m.\u001b[0m\u001b[0mcorr\u001b[0m\u001b[1;33m(\u001b[0m\u001b[1;33m)\u001b[0m\u001b[1;33m)\u001b[0m\u001b[1;33m\u001b[0m\u001b[0m\n\u001b[0;32m      4\u001b[0m \u001b[0mc1\u001b[0m\u001b[1;33m.\u001b[0m\u001b[0mplot\u001b[0m\u001b[1;33m(\u001b[0m\u001b[0mmethod\u001b[0m \u001b[1;33m=\u001b[0m \u001b[1;34m\"pie\"\u001b[0m\u001b[1;33m)\u001b[0m\u001b[1;33m\u001b[0m\u001b[0m\n\u001b[0;32m      5\u001b[0m \u001b[1;33m\u001b[0m\u001b[0m\n",
      "\u001b[1;31mImportError\u001b[0m: No module named 'biokit'"
     ]
    }
   ],
   "source": [
    "from biokit.viz import corrplot\n",
    "\n",
    "c1 = corrplot.Corrplot(df[df.Vainqueur == 1].corr())\n",
    "c1.plot(method = \"pie\")\n",
    "\n",
    "c1 = corrplot.Corrplot(df[df.Vainqueur == 0].corr())\n",
    "c1.plot(method = \"pie\")"
   ]
  },
  {
   "cell_type": "code",
   "execution_count": 62,
   "metadata": {
    "collapsed": false
   },
   "outputs": [
    {
     "name": "stderr",
     "output_type": "stream",
     "text": [
      "/home/yannick/bin/anaconda3/envs/py35/lib/python3.5/site-packages/ipykernel/__main__.py:10: SettingWithCopyWarning: \n",
      "A value is trying to be set on a copy of a slice from a DataFrame\n",
      "\n",
      "See the caveats in the documentation: http://pandas.pydata.org/pandas-docs/stable/indexing.html#indexing-view-versus-copy\n",
      "/home/yannick/bin/anaconda3/envs/py35/lib/python3.5/site-packages/ipykernel/__main__.py:11: SettingWithCopyWarning: \n",
      "A value is trying to be set on a copy of a slice from a DataFrame\n",
      "\n",
      "See the caveats in the documentation: http://pandas.pydata.org/pandas-docs/stable/indexing.html#indexing-view-versus-copy\n"
     ]
    },
    {
     "data": {
      "text/html": [
       "<div>\n",
       "<table border=\"1\" class=\"dataframe\">\n",
       "  <thead>\n",
       "    <tr style=\"text-align: right;\">\n",
       "      <th></th>\n",
       "      <th>Partie</th>\n",
       "      <th>Joueur</th>\n",
       "      <th>Nb joueurs</th>\n",
       "      <th>Rang relatif</th>\n",
       "      <th>Vainqueur</th>\n",
       "      <th>Extension</th>\n",
       "      <th>Leaders</th>\n",
       "      <th>Ville</th>\n",
       "      <th>Côté</th>\n",
       "      <th>Rouge</th>\n",
       "      <th>Argent</th>\n",
       "      <th>Merveille</th>\n",
       "      <th>Bleu</th>\n",
       "      <th>Jaune</th>\n",
       "      <th>Violet</th>\n",
       "      <th>Vert</th>\n",
       "    </tr>\n",
       "  </thead>\n",
       "  <tbody>\n",
       "    <tr>\n",
       "      <th>0</th>\n",
       "      <td>1</td>\n",
       "      <td>S</td>\n",
       "      <td>4</td>\n",
       "      <td>-1.00</td>\n",
       "      <td>0</td>\n",
       "      <td>base</td>\n",
       "      <td>NaN</td>\n",
       "      <td>none</td>\n",
       "      <td>a</td>\n",
       "      <td>0.027027</td>\n",
       "      <td>0.108108</td>\n",
       "      <td>0.270270</td>\n",
       "      <td>0.135135</td>\n",
       "      <td>0.189189</td>\n",
       "      <td>0.000000</td>\n",
       "      <td>0.270270</td>\n",
       "    </tr>\n",
       "    <tr>\n",
       "      <th>1</th>\n",
       "      <td>1</td>\n",
       "      <td>L</td>\n",
       "      <td>4</td>\n",
       "      <td>-0.67</td>\n",
       "      <td>0</td>\n",
       "      <td>base</td>\n",
       "      <td>NaN</td>\n",
       "      <td>none</td>\n",
       "      <td>a</td>\n",
       "      <td>-0.150000</td>\n",
       "      <td>0.075000</td>\n",
       "      <td>0.250000</td>\n",
       "      <td>0.325000</td>\n",
       "      <td>0.000000</td>\n",
       "      <td>0.175000</td>\n",
       "      <td>0.325000</td>\n",
       "    </tr>\n",
       "    <tr>\n",
       "      <th>2</th>\n",
       "      <td>1</td>\n",
       "      <td>C</td>\n",
       "      <td>4</td>\n",
       "      <td>-0.33</td>\n",
       "      <td>0</td>\n",
       "      <td>base</td>\n",
       "      <td>NaN</td>\n",
       "      <td>none</td>\n",
       "      <td>a</td>\n",
       "      <td>0.265306</td>\n",
       "      <td>0.020408</td>\n",
       "      <td>0.204082</td>\n",
       "      <td>0.183673</td>\n",
       "      <td>0.061224</td>\n",
       "      <td>0.183673</td>\n",
       "      <td>0.081633</td>\n",
       "    </tr>\n",
       "    <tr>\n",
       "      <th>3</th>\n",
       "      <td>1</td>\n",
       "      <td>A</td>\n",
       "      <td>4</td>\n",
       "      <td>-0.00</td>\n",
       "      <td>1</td>\n",
       "      <td>base</td>\n",
       "      <td>NaN</td>\n",
       "      <td>none</td>\n",
       "      <td>a</td>\n",
       "      <td>0.196721</td>\n",
       "      <td>0.016393</td>\n",
       "      <td>0.163934</td>\n",
       "      <td>0.426230</td>\n",
       "      <td>0.049180</td>\n",
       "      <td>0.147541</td>\n",
       "      <td>0.000000</td>\n",
       "    </tr>\n",
       "    <tr>\n",
       "      <th>4</th>\n",
       "      <td>2</td>\n",
       "      <td>A</td>\n",
       "      <td>5</td>\n",
       "      <td>-0.50</td>\n",
       "      <td>0</td>\n",
       "      <td>base</td>\n",
       "      <td>NaN</td>\n",
       "      <td>none</td>\n",
       "      <td>a</td>\n",
       "      <td>-0.100000</td>\n",
       "      <td>0.060000</td>\n",
       "      <td>0.200000</td>\n",
       "      <td>0.240000</td>\n",
       "      <td>0.000000</td>\n",
       "      <td>0.180000</td>\n",
       "      <td>0.420000</td>\n",
       "    </tr>\n",
       "  </tbody>\n",
       "</table>\n",
       "</div>"
      ],
      "text/plain": [
       "   Partie Joueur  Nb joueurs  Rang relatif  Vainqueur Extension  Leaders  \\\n",
       "0       1      S           4         -1.00          0      base      NaN   \n",
       "1       1      L           4         -0.67          0      base      NaN   \n",
       "2       1      C           4         -0.33          0      base      NaN   \n",
       "3       1      A           4         -0.00          1      base      NaN   \n",
       "4       2      A           5         -0.50          0      base      NaN   \n",
       "\n",
       "  Ville Côté     Rouge    Argent  Merveille      Bleu     Jaune    Violet  \\\n",
       "0  none    a  0.027027  0.108108   0.270270  0.135135  0.189189  0.000000   \n",
       "1  none    a -0.150000  0.075000   0.250000  0.325000  0.000000  0.175000   \n",
       "2  none    a  0.265306  0.020408   0.204082  0.183673  0.061224  0.183673   \n",
       "3  none    a  0.196721  0.016393   0.163934  0.426230  0.049180  0.147541   \n",
       "4  none    a -0.100000  0.060000   0.200000  0.240000  0.000000  0.180000   \n",
       "\n",
       "       Vert  \n",
       "0  0.270270  \n",
       "1  0.325000  \n",
       "2  0.081633  \n",
       "3  0.000000  \n",
       "4  0.420000  "
      ]
     },
     "execution_count": 62,
     "metadata": {},
     "output_type": "execute_result"
    }
   ],
   "source": [
    "df = pd.merge(scores[[\"Nb joueurs\", \"Rang relatif\", \"Vainqueur\", \"Partie\", \"Joueur\", \"Extension\", \"Leaders\", \n",
    "                       \"Ville\", \"Côté\"]], \n",
    "              couleurs_r.reset_index(),\n",
    "              on = [\"Partie\", \"Joueur\"]).set_index([\"Partie\", \"Joueur\"])\n",
    "\n",
    "df = df.reset_index()\n",
    "\n",
    "cols = list(set(df.columns) - {'Ville', 'Côté'})\n",
    "\n",
    "df[\"Côté\"][df.Ville.isnull()] = \"a\"\n",
    "df.Ville[df.Ville.isnull()] = \"none\"\n",
    "\n",
    "\n",
    "df.head()"
   ]
  },
  {
   "cell_type": "code",
   "execution_count": 68,
   "metadata": {
    "collapsed": false
   },
   "outputs": [
    {
     "name": "stdout",
     "output_type": "stream",
     "text": [
      "     Leaders      Bleu Extension      Vert  Nb joueurs  Partie  Vainqueur  \\\n",
      "86       NaN  0.049180      base  0.000000           5      19          0   \n",
      "98       NaN  0.461538      base  0.000000           5      23          0   \n",
      "100      NaN  0.098361      base  0.000000           3      21          1   \n",
      "108      NaN  0.446809      base  0.021277           3      24          0   \n",
      "124      NaN  0.115385      base  0.192308           5      27          0   \n",
      "136      NaN  0.366667      base  0.000000           4      30          0   \n",
      "199        0  0.049180   leaders  0.163934           5      45          1   \n",
      "217      NaN  0.224138      base  0.224138           5      50          0   \n",
      "226      NaN  0.114286      base  0.000000           5      51          1   \n",
      "229      NaN  0.178571      base  0.000000           5      52          0   \n",
      "234        8  0.267857   leaders  0.071429           4      53          1   \n",
      "239       12  0.000000   leaders  0.000000           4      54          1   \n",
      "275      NaN  0.255319      base  0.212766           5      64          0   \n",
      "\n",
      "     Joueur  Merveille    Violet     Rouge  Rang relatif    Argent     Jaune  \n",
      "86        S   0.327869  0.114754  0.180328         -0.25  0.114754  0.213115  \n",
      "98        Y   0.384615  0.192308 -0.115385         -0.25  0.076923  0.000000  \n",
      "100       L   0.327869  0.229508  0.131148         -0.00  0.081967  0.131148  \n",
      "108       Y   0.425532  0.000000  0.106383         -0.50  0.000000  0.000000  \n",
      "124       C   0.384615  0.000000  0.192308         -0.75  0.038462  0.076923  \n",
      "136       L   0.333333  0.000000  0.200000         -0.33  0.033333  0.066667  \n",
      "199       C   0.327869  0.163934  0.196721         -0.00  0.032787  0.065574  \n",
      "217       A   0.344828  0.000000  0.206897         -0.25  0.000000  0.000000  \n",
      "226       Y   0.285714  0.100000  0.257143         -0.00  0.128571  0.114286  \n",
      "229  Didier   0.357143  0.000000  0.285714         -0.25  0.107143  0.071429  \n",
      "234       C   0.357143  0.000000  0.125000         -0.00  0.107143  0.071429  \n",
      "239       Y   0.307692  0.369231  0.184615         -0.00  0.061538  0.076923  \n",
      "275       S   0.425532  0.000000 -0.063830         -0.50  0.085106  0.085106  \n"
     ]
    },
    {
     "data": {
      "image/png": "[encoded data removed]",
      "text/plain": [
       "<matplotlib.figure.Figure at 0x7f0f726bd828>"
      ]
     },
     "metadata": {},
     "output_type": "display_data"
    }
   ],
   "source": [
    "from IPython.html.widgets import interact\n",
    "\n",
    "mx = df.Partie.max()\n",
    "print(mx)\n",
    "Villes = tuple(df.Ville.unique())\n",
    "\n",
    "@interact\n",
    "def plot(ville = Villes, cote = [\"a\", \"b\"]):\n",
    "    if ville == \"none\":\n",
    "        _ = sns.heatmap(df[(df.Ville == ville)][cols].corr(), square = True)\n",
    "        print(df[(df.Ville == ville)][cols])\n",
    "    else:\n",
    "        _ = sns.heatmap(df[(df.Ville == ville) & (df[\"Côté\"] == cote)][cols].corr(), square = True)\n",
    "        print(df[(df.Ville == ville) & (df[\"Côté\"] == cote)][cols])"
   ]
  },
  {
   "cell_type": "code",
   "execution_count": 40,
   "metadata": {
    "collapsed": false
   },
   "outputs": [
    {
     "data": {
      "text/plain": [
       "(nan,\n",
       " 'olympe',\n",
       " 'ephèse',\n",
       " 'babylone',\n",
       " 'alexandrie',\n",
       " 'gizah',\n",
       " 'rhodes',\n",
       " 'halikarnasse',\n",
       " 'rome')"
      ]
     },
     "execution_count": 40,
     "metadata": {},
     "output_type": "execute_result"
    }
   ],
   "source": []
  }
 ],
 "metadata": {
  "kernelspec": {
   "display_name": "Python 3",
   "language": "python",
   "name": "python3"
  },
  "language_info": {
   "codemirror_mode": {
    "name": "ipython",
    "version": 3
   },
   "file_extension": ".py",
   "mimetype": "text/x-python",
   "name": "python",
   "nbconvert_exporter": "python",
   "pygments_lexer": "ipython3",
   "version": "3.5.1"
  }
 },
 "nbformat": 4,
 "nbformat_minor": 0
}
