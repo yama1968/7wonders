{
 "cells": [
  {
   "cell_type": "code",
   "execution_count": 1,
   "metadata": {
    "collapsed": false
   },
   "outputs": [],
   "source": [
    "%matplotlib inline\n",
    "import scipy.stats as stats\n",
    "from IPython.core.pylabtools import figsize\n",
    "import numpy as np\n",
    "import pandas as pd\n",
    "figsize(12.5, 8)\n",
    "\n",
    "import matplotlib.pyplot as plt\n",
    "\n",
    "import plotly\n",
    "print (plotly.__version__)            # version 1.9.4 required\n",
    "plotly.offline.init_notebook_mode() # run at the start of every notebook\n"
   ]
  },
  {
   "cell_type": "code",
   "execution_count": 2,
   "metadata": {
    "collapsed": false
   },
   "outputs": [
    {
     "data": {
      "text/html": [
       "<div>\n",
       "<table border=\"1\" class=\"dataframe\">\n",
       "  <thead>\n",
       "    <tr style=\"text-align: right;\">\n",
       "      <th></th>\n",
       "      <th>Partie</th>\n",
       "      <th>Nb joueurs</th>\n",
       "      <th>Date</th>\n",
       "      <th>Extension</th>\n",
       "      <th>Joueur</th>\n",
       "      <th>Ville</th>\n",
       "      <th>Côté</th>\n",
       "      <th>Rouge</th>\n",
       "      <th>Argent</th>\n",
       "      <th>Merveille</th>\n",
       "      <th>Bleu</th>\n",
       "      <th>Jaune</th>\n",
       "      <th>Violet</th>\n",
       "      <th>Vert</th>\n",
       "      <th>Leaders</th>\n",
       "      <th>Total</th>\n",
       "      <th>Rang</th>\n",
       "      <th>Rang relatif</th>\n",
       "      <th>Vainqueur</th>\n",
       "    </tr>\n",
       "  </thead>\n",
       "  <tbody>\n",
       "    <tr>\n",
       "      <th>0</th>\n",
       "      <td>1</td>\n",
       "      <td>4</td>\n",
       "      <td>NaN</td>\n",
       "      <td>base</td>\n",
       "      <td>S</td>\n",
       "      <td>NaN</td>\n",
       "      <td>NaN</td>\n",
       "      <td>1</td>\n",
       "      <td>4</td>\n",
       "      <td>10</td>\n",
       "      <td>5</td>\n",
       "      <td>7</td>\n",
       "      <td>0</td>\n",
       "      <td>10</td>\n",
       "      <td>NaN</td>\n",
       "      <td>37</td>\n",
       "      <td>4</td>\n",
       "      <td>-1.00</td>\n",
       "      <td>0</td>\n",
       "    </tr>\n",
       "    <tr>\n",
       "      <th>1</th>\n",
       "      <td>1</td>\n",
       "      <td>4</td>\n",
       "      <td>NaN</td>\n",
       "      <td>base</td>\n",
       "      <td>L</td>\n",
       "      <td>NaN</td>\n",
       "      <td>NaN</td>\n",
       "      <td>-6</td>\n",
       "      <td>3</td>\n",
       "      <td>10</td>\n",
       "      <td>13</td>\n",
       "      <td>0</td>\n",
       "      <td>7</td>\n",
       "      <td>13</td>\n",
       "      <td>NaN</td>\n",
       "      <td>40</td>\n",
       "      <td>3</td>\n",
       "      <td>-0.67</td>\n",
       "      <td>0</td>\n",
       "    </tr>\n",
       "    <tr>\n",
       "      <th>2</th>\n",
       "      <td>1</td>\n",
       "      <td>4</td>\n",
       "      <td>NaN</td>\n",
       "      <td>base</td>\n",
       "      <td>C</td>\n",
       "      <td>NaN</td>\n",
       "      <td>NaN</td>\n",
       "      <td>13</td>\n",
       "      <td>1</td>\n",
       "      <td>10</td>\n",
       "      <td>9</td>\n",
       "      <td>3</td>\n",
       "      <td>9</td>\n",
       "      <td>4</td>\n",
       "      <td>NaN</td>\n",
       "      <td>49</td>\n",
       "      <td>2</td>\n",
       "      <td>-0.33</td>\n",
       "      <td>0</td>\n",
       "    </tr>\n",
       "    <tr>\n",
       "      <th>3</th>\n",
       "      <td>1</td>\n",
       "      <td>4</td>\n",
       "      <td>NaN</td>\n",
       "      <td>base</td>\n",
       "      <td>A</td>\n",
       "      <td>NaN</td>\n",
       "      <td>NaN</td>\n",
       "      <td>12</td>\n",
       "      <td>1</td>\n",
       "      <td>10</td>\n",
       "      <td>26</td>\n",
       "      <td>3</td>\n",
       "      <td>9</td>\n",
       "      <td>0</td>\n",
       "      <td>NaN</td>\n",
       "      <td>61</td>\n",
       "      <td>1</td>\n",
       "      <td>-0.00</td>\n",
       "      <td>1</td>\n",
       "    </tr>\n",
       "    <tr>\n",
       "      <th>4</th>\n",
       "      <td>2</td>\n",
       "      <td>5</td>\n",
       "      <td>24/10/2015</td>\n",
       "      <td>base</td>\n",
       "      <td>A</td>\n",
       "      <td>NaN</td>\n",
       "      <td>NaN</td>\n",
       "      <td>-5</td>\n",
       "      <td>3</td>\n",
       "      <td>10</td>\n",
       "      <td>12</td>\n",
       "      <td>0</td>\n",
       "      <td>9</td>\n",
       "      <td>21</td>\n",
       "      <td>NaN</td>\n",
       "      <td>50</td>\n",
       "      <td>3</td>\n",
       "      <td>-0.50</td>\n",
       "      <td>0</td>\n",
       "    </tr>\n",
       "  </tbody>\n",
       "</table>\n",
       "</div>"
      ],
      "text/plain": [
       "   Partie  Nb joueurs        Date Extension Joueur Ville Côté  Rouge  Argent  \\\n",
       "0       1           4         NaN      base      S   NaN  NaN      1       4   \n",
       "1       1           4         NaN      base      L   NaN  NaN     -6       3   \n",
       "2       1           4         NaN      base      C   NaN  NaN     13       1   \n",
       "3       1           4         NaN      base      A   NaN  NaN     12       1   \n",
       "4       2           5  24/10/2015      base      A   NaN  NaN     -5       3   \n",
       "\n",
       "   Merveille  Bleu  Jaune  Violet  Vert  Leaders  Total  Rang  Rang relatif  \\\n",
       "0         10     5      7       0    10      NaN     37     4         -1.00   \n",
       "1         10    13      0       7    13      NaN     40     3         -0.67   \n",
       "2         10     9      3       9     4      NaN     49     2         -0.33   \n",
       "3         10    26      3       9     0      NaN     61     1         -0.00   \n",
       "4         10    12      0       9    21      NaN     50     3         -0.50   \n",
       "\n",
       "   Vainqueur  \n",
       "0          0  \n",
       "1          0  \n",
       "2          0  \n",
       "3          1  \n",
       "4          0  "
      ]
     },
     "execution_count": 2,
     "metadata": {},
     "output_type": "execute_result"
    }
   ],
   "source": [
    "scores = pd.read_csv(\"../data/Scores 7 Wonders - Scores.csv\")\n",
    "scores[\"Rang relatif\"] = -(scores[\"Rang relatif\"].str[:-1].astype(float) / 100)\n",
    "scores.head()"
   ]
  },
  {
   "cell_type": "code",
   "execution_count": 3,
   "metadata": {
    "collapsed": false
   },
   "outputs": [
    {
     "data": {
      "text/plain": [
       "Index(['Partie', 'Nb joueurs', 'Date', 'Extension', 'Joueur', 'Ville', 'Côté',\n",
       "       'Rouge', 'Argent', 'Merveille', 'Bleu', 'Jaune', 'Violet', 'Vert',\n",
       "       'Leaders', 'Total', 'Rang', 'Rang relatif', 'Vainqueur'],\n",
       "      dtype='object')"
      ]
     },
     "execution_count": 3,
     "metadata": {},
     "output_type": "execute_result"
    }
   ],
   "source": [
    "scores.columns"
   ]
  },
  {
   "cell_type": "code",
   "execution_count": 4,
   "metadata": {
    "collapsed": false
   },
   "outputs": [
    {
     "data": {
      "text/html": [
       "<div>\n",
       "<table border=\"1\" class=\"dataframe\">\n",
       "  <thead>\n",
       "    <tr style=\"text-align: right;\">\n",
       "      <th></th>\n",
       "      <th></th>\n",
       "      <th>Rouge</th>\n",
       "      <th>Argent</th>\n",
       "      <th>Merveille</th>\n",
       "      <th>Bleu</th>\n",
       "      <th>Jaune</th>\n",
       "      <th>Violet</th>\n",
       "      <th>Vert</th>\n",
       "    </tr>\n",
       "    <tr>\n",
       "      <th>Partie</th>\n",
       "      <th>Joueur</th>\n",
       "      <th></th>\n",
       "      <th></th>\n",
       "      <th></th>\n",
       "      <th></th>\n",
       "      <th></th>\n",
       "      <th></th>\n",
       "      <th></th>\n",
       "    </tr>\n",
       "  </thead>\n",
       "  <tbody>\n",
       "    <tr>\n",
       "      <th rowspan=\"4\" valign=\"top\">1</th>\n",
       "      <th>S</th>\n",
       "      <td>0.027027</td>\n",
       "      <td>0.108108</td>\n",
       "      <td>0.270270</td>\n",
       "      <td>0.135135</td>\n",
       "      <td>0.189189</td>\n",
       "      <td>0.000000</td>\n",
       "      <td>0.270270</td>\n",
       "    </tr>\n",
       "    <tr>\n",
       "      <th>L</th>\n",
       "      <td>-0.150000</td>\n",
       "      <td>0.075000</td>\n",
       "      <td>0.250000</td>\n",
       "      <td>0.325000</td>\n",
       "      <td>0.000000</td>\n",
       "      <td>0.175000</td>\n",
       "      <td>0.325000</td>\n",
       "    </tr>\n",
       "    <tr>\n",
       "      <th>C</th>\n",
       "      <td>0.265306</td>\n",
       "      <td>0.020408</td>\n",
       "      <td>0.204082</td>\n",
       "      <td>0.183673</td>\n",
       "      <td>0.061224</td>\n",
       "      <td>0.183673</td>\n",
       "      <td>0.081633</td>\n",
       "    </tr>\n",
       "    <tr>\n",
       "      <th>A</th>\n",
       "      <td>0.196721</td>\n",
       "      <td>0.016393</td>\n",
       "      <td>0.163934</td>\n",
       "      <td>0.426230</td>\n",
       "      <td>0.049180</td>\n",
       "      <td>0.147541</td>\n",
       "      <td>0.000000</td>\n",
       "    </tr>\n",
       "    <tr>\n",
       "      <th>2</th>\n",
       "      <th>A</th>\n",
       "      <td>-0.100000</td>\n",
       "      <td>0.060000</td>\n",
       "      <td>0.200000</td>\n",
       "      <td>0.240000</td>\n",
       "      <td>0.000000</td>\n",
       "      <td>0.180000</td>\n",
       "      <td>0.420000</td>\n",
       "    </tr>\n",
       "  </tbody>\n",
       "</table>\n",
       "</div>"
      ],
      "text/plain": [
       "                  Rouge    Argent  Merveille      Bleu     Jaune    Violet  \\\n",
       "Partie Joueur                                                                \n",
       "1      S       0.027027  0.108108   0.270270  0.135135  0.189189  0.000000   \n",
       "       L      -0.150000  0.075000   0.250000  0.325000  0.000000  0.175000   \n",
       "       C       0.265306  0.020408   0.204082  0.183673  0.061224  0.183673   \n",
       "       A       0.196721  0.016393   0.163934  0.426230  0.049180  0.147541   \n",
       "2      A      -0.100000  0.060000   0.200000  0.240000  0.000000  0.180000   \n",
       "\n",
       "                   Vert  \n",
       "Partie Joueur            \n",
       "1      S       0.270270  \n",
       "       L       0.325000  \n",
       "       C       0.081633  \n",
       "       A       0.000000  \n",
       "2      A       0.420000  "
      ]
     },
     "execution_count": 4,
     "metadata": {},
     "output_type": "execute_result"
    }
   ],
   "source": [
    "couleurs = scores.set_index([\"Partie\", \"Joueur\"])[[u'Rouge', u'Argent', u'Merveille', u'Bleu', u'Jaune',\n",
    "       u'Violet', u'Vert']]\n",
    "couleurs_r = couleurs.divide(couleurs.sum(axis = 1), axis = 0)\n",
    "couleurs_r.head()"
   ]
  },
  {
   "cell_type": "code",
   "execution_count": 5,
   "metadata": {
    "collapsed": false
   },
   "outputs": [
    {
     "data": {
      "text/html": [
       "<div>\n",
       "<table border=\"1\" class=\"dataframe\">\n",
       "  <thead>\n",
       "    <tr style=\"text-align: right;\">\n",
       "      <th></th>\n",
       "      <th>Partie</th>\n",
       "      <th>Joueur</th>\n",
       "      <th>Nb joueurs</th>\n",
       "      <th>Rang relatif</th>\n",
       "      <th>Vainqueur</th>\n",
       "      <th>Extension</th>\n",
       "      <th>Leaders</th>\n",
       "      <th>Rouge</th>\n",
       "      <th>Argent</th>\n",
       "      <th>Merveille</th>\n",
       "      <th>Bleu</th>\n",
       "      <th>Jaune</th>\n",
       "      <th>Violet</th>\n",
       "      <th>Vert</th>\n",
       "    </tr>\n",
       "  </thead>\n",
       "  <tbody>\n",
       "    <tr>\n",
       "      <th>0</th>\n",
       "      <td>1</td>\n",
       "      <td>S</td>\n",
       "      <td>4</td>\n",
       "      <td>-1.00</td>\n",
       "      <td>0</td>\n",
       "      <td>base</td>\n",
       "      <td>NaN</td>\n",
       "      <td>0.027027</td>\n",
       "      <td>0.108108</td>\n",
       "      <td>0.270270</td>\n",
       "      <td>0.135135</td>\n",
       "      <td>0.189189</td>\n",
       "      <td>0.000000</td>\n",
       "      <td>0.270270</td>\n",
       "    </tr>\n",
       "    <tr>\n",
       "      <th>1</th>\n",
       "      <td>1</td>\n",
       "      <td>L</td>\n",
       "      <td>4</td>\n",
       "      <td>-0.67</td>\n",
       "      <td>0</td>\n",
       "      <td>base</td>\n",
       "      <td>NaN</td>\n",
       "      <td>-0.150000</td>\n",
       "      <td>0.075000</td>\n",
       "      <td>0.250000</td>\n",
       "      <td>0.325000</td>\n",
       "      <td>0.000000</td>\n",
       "      <td>0.175000</td>\n",
       "      <td>0.325000</td>\n",
       "    </tr>\n",
       "    <tr>\n",
       "      <th>2</th>\n",
       "      <td>1</td>\n",
       "      <td>C</td>\n",
       "      <td>4</td>\n",
       "      <td>-0.33</td>\n",
       "      <td>0</td>\n",
       "      <td>base</td>\n",
       "      <td>NaN</td>\n",
       "      <td>0.265306</td>\n",
       "      <td>0.020408</td>\n",
       "      <td>0.204082</td>\n",
       "      <td>0.183673</td>\n",
       "      <td>0.061224</td>\n",
       "      <td>0.183673</td>\n",
       "      <td>0.081633</td>\n",
       "    </tr>\n",
       "    <tr>\n",
       "      <th>3</th>\n",
       "      <td>1</td>\n",
       "      <td>A</td>\n",
       "      <td>4</td>\n",
       "      <td>-0.00</td>\n",
       "      <td>1</td>\n",
       "      <td>base</td>\n",
       "      <td>NaN</td>\n",
       "      <td>0.196721</td>\n",
       "      <td>0.016393</td>\n",
       "      <td>0.163934</td>\n",
       "      <td>0.426230</td>\n",
       "      <td>0.049180</td>\n",
       "      <td>0.147541</td>\n",
       "      <td>0.000000</td>\n",
       "    </tr>\n",
       "    <tr>\n",
       "      <th>4</th>\n",
       "      <td>2</td>\n",
       "      <td>A</td>\n",
       "      <td>5</td>\n",
       "      <td>-0.50</td>\n",
       "      <td>0</td>\n",
       "      <td>base</td>\n",
       "      <td>NaN</td>\n",
       "      <td>-0.100000</td>\n",
       "      <td>0.060000</td>\n",
       "      <td>0.200000</td>\n",
       "      <td>0.240000</td>\n",
       "      <td>0.000000</td>\n",
       "      <td>0.180000</td>\n",
       "      <td>0.420000</td>\n",
       "    </tr>\n",
       "  </tbody>\n",
       "</table>\n",
       "</div>"
      ],
      "text/plain": [
       "   Partie Joueur  Nb joueurs  Rang relatif  Vainqueur Extension  Leaders  \\\n",
       "0       1      S           4         -1.00          0      base      NaN   \n",
       "1       1      L           4         -0.67          0      base      NaN   \n",
       "2       1      C           4         -0.33          0      base      NaN   \n",
       "3       1      A           4         -0.00          1      base      NaN   \n",
       "4       2      A           5         -0.50          0      base      NaN   \n",
       "\n",
       "      Rouge    Argent  Merveille      Bleu     Jaune    Violet      Vert  \n",
       "0  0.027027  0.108108   0.270270  0.135135  0.189189  0.000000  0.270270  \n",
       "1 -0.150000  0.075000   0.250000  0.325000  0.000000  0.175000  0.325000  \n",
       "2  0.265306  0.020408   0.204082  0.183673  0.061224  0.183673  0.081633  \n",
       "3  0.196721  0.016393   0.163934  0.426230  0.049180  0.147541  0.000000  \n",
       "4 -0.100000  0.060000   0.200000  0.240000  0.000000  0.180000  0.420000  "
      ]
     },
     "execution_count": 5,
     "metadata": {},
     "output_type": "execute_result"
    }
   ],
   "source": [
    "df = pd.merge(scores[[\"Nb joueurs\", \"Rang relatif\", \"Vainqueur\", \"Partie\", \"Joueur\", \"Extension\", \"Leaders\"]], \n",
    "              couleurs_r.reset_index(),\n",
    "              on = [\"Partie\", \"Joueur\"]).set_index([\"Partie\", \"Joueur\"])\n",
    "\n",
    "df = df.reset_index()\n",
    "\n",
    "df.head()"
   ]
  },
  {
   "cell_type": "code",
   "execution_count": 6,
   "metadata": {
    "collapsed": false
   },
   "outputs": [
    {
     "data": {
      "image/png": "[encoded data removed]",
      "text/plain": [
       "<matplotlib.figure.Figure at 0x7f746bf85fd0>"
      ]
     },
     "metadata": {},
     "output_type": "display_data"
    }
   ],
   "source": [
    "import seaborn as sns\n",
    "\n",
    "_ = sns.heatmap(df.corr(), square = True)"
   ]
  },
  {
   "cell_type": "code",
   "execution_count": 25,
   "metadata": {
    "collapsed": false
   },
   "outputs": [
    {
     "data": {
      "text/html": [
       "<div id=\"7cd3ad52-9a0d-4914-8ba2-7a70e2be7214\" style=\"height: 600; width: 600px;\" class=\"plotly-graph-div\"></div><script type=\"text/javascript\">window.PLOTLYENV=window.PLOTLYENV || {};window.PLOTLYENV.BASE_URL=\"https://plot.ly\";Plotly.newPlot(\"7cd3ad52-9a0d-4914-8ba2-7a70e2be7214\", [{\"z\": [[1.0, -0.2424759340807585, 0.004067956815980037, 0.03287659206585691, 0.23088385697718977, 0.03585920360612004, 0.08585687974687214, -0.20903978418389654, -0.016369686974684456, 0.10493839803377426, 0.018609010205539938, 0.00754989601080272], [-0.2424759340807585, 1.0, 0.004060594857388141, -0.10511740322088621, 0.09198659806736796, -0.0057420114887084695, 0.1233478188612617, 0.19237338501192985, -0.02289146575916935, 0.008397402112943158, 0.03143803952384017, -0.0888816946675928], [0.004067956815980037, 0.004060594857388141, 1.0, 0.7491965046591852, 0.11107519591786237, 0.38091459995394417, -0.06310006655457613, -0.17566819253710528, -0.1865556304960995, -0.08770178403442067, 0.2672500101108515, -0.15585679846882533], [0.03287659206585691, -0.10511740322088621, 0.7491965046591852, 1.0, 0.1632330936855762, 0.27766308650277705, -0.12134606522723711, -0.13313455962187257, -0.16420056082323983, -0.12960589838887612, 0.23208865757977173, -0.07936389869727226], [0.23088385697718977, 0.09198659806736796, 0.11107519591786237, 0.1632330936855762, 1.0, 0.08547976361839028, -0.035281968867103476, -0.0003685747562587531, 0.029075740281778, -0.12147473440949302, 0.35770464672345237, -0.1941702497022528], [0.03585920360612004, -0.0057420114887084695, 0.38091459995394417, 0.27766308650277705, 0.08547976361839028, 1.0, -0.2503370766905102, -0.2251189765455082, -0.15862942020738535, 0.0009132910439684632, 0.20765232823907406, -0.5162275476151391], [0.08585687974687214, 0.1233478188612617, -0.06310006655457613, -0.12134606522723711, -0.035281968867103476, -0.2503370766905102, 1.0, 0.055573495102667306, -0.10028437136711163, 0.4147172727579218, -0.050880375653511174, -0.06081839059315644], [-0.20903978418389654, 0.19237338501192985, -0.17566819253710528, -0.13313455962187257, -0.0003685747562587531, -0.2251189765455082, 0.055573495102667306, 1.0, 0.11823891869511381, -0.000596227907649288, -0.2623595736885938, -0.1606987148944331], [-0.016369686974684456, -0.02289146575916935, -0.1865556304960995, -0.16420056082323983, 0.029075740281778, -0.15862942020738535, -0.10028437136711163, 0.11823891869511381, 1.0, -0.09806458432710467, -0.20312847698555164, -0.49795471916698614], [0.10493839803377426, 0.008397402112943158, -0.08770178403442067, -0.12960589838887612, -0.12147473440949302, 0.0009132910439684632, 0.4147172727579218, -0.000596227907649288, -0.09806458432710467, 1.0, -0.11032027848997346, -0.21233762144148205], [0.018609010205539938, 0.03143803952384017, 0.2672500101108515, 0.23208865757977173, 0.35770464672345237, 0.20765232823907406, -0.050880375653511174, -0.2623595736885938, -0.20312847698555164, -0.11032027848997346, 1.0, -0.37238746525053024], [0.00754989601080272, -0.0888816946675928, -0.15585679846882533, -0.07936389869727226, -0.1941702497022528, -0.5162275476151391, -0.06081839059315644, -0.1606987148944331, -0.49795471916698614, -0.21233762144148205, -0.37238746525053024, 1.0]], \"type\": \"heatmap\", \"x\": [\"Partie\", \"Nb joueurs\", \"Rang relatif\", \"Vainqueur\", \"Leaders\", \"Rouge\", \"Argent\", \"Merveille\", \"Bleu\", \"Jaune\", \"Violet\", \"Vert\"], \"y\": [\"Partie\", \"Nb joueurs\", \"Rang relatif\", \"Vainqueur\", \"Leaders\", \"Rouge\", \"Argent\", \"Merveille\", \"Bleu\", \"Jaune\", \"Violet\", \"Vert\"]}], {\"height\": 600, \"width\": 600}, {\"showLink\": true, \"linkText\": \"Export to plot.ly\"})</script>"
      ],
      "text/plain": [
       "<IPython.core.display.HTML object>"
      ]
     },
     "metadata": {},
     "output_type": "display_data"
    }
   ],
   "source": [
    "import plotly.graph_objs as go\n",
    "\n",
    "corrmat = df.corr()\n",
    "\n",
    "fig = go.Figure(data=[\n",
    "            go.Heatmap(\n",
    "                z=corrmat.values,\n",
    "                x=corrmat.columns,\n",
    "                y=corrmat.columns\n",
    "            )\n",
    "        ])\n",
    "\n",
    "fig[\"layout\"].update(width = 600, height = 600)\n",
    "\n",
    "plot_url = plotly.offline.iplot(fig)"
   ]
  },
  {
   "cell_type": "code",
   "execution_count": null,
   "metadata": {
    "collapsed": false
   },
   "outputs": [],
   "source": [
    "from IPython.html.widgets import interact\n",
    "\n",
    "mx = df.Partie.max()\n",
    "print(mx)\n",
    "\n",
    "@interact\n",
    "def plot(PourcentageParties = (0., 1.), Ext = (\"base\", \"leaders\", \"both\")):\n",
    "    Ext = [\"base\", \"leaders\"] if Ext == \"both\" else [Ext]\n",
    "    _ = sns.heatmap(df[(df.Extension.isin(Ext)) & (df.Partie >= mx * (1-PourcentageParties))].corr(), square = True)"
   ]
  },
  {
   "cell_type": "code",
   "execution_count": null,
   "metadata": {
    "collapsed": false
   },
   "outputs": [],
   "source": [
    "from IPython.html.widgets import interact\n",
    "\n",
    "mx = df.Partie.max()\n",
    "print(mx)\n",
    "\n",
    "@interact\n",
    "def plot(PourcentageParties = (0., 1.), Ext = (\"base\", \"leaders\", \"both\")):\n",
    "    Ext = [\"base\", \"leaders\"] if Ext == \"both\" else [Ext]\n",
    "    _ = sns.heatmap(df[(df.Extension.isin(Ext)) & (df.Partie >= mx * (1-PourcentageParties))].corr(), square = True)"
   ]
  },
  {
   "cell_type": "code",
   "execution_count": null,
   "metadata": {
    "collapsed": false
   },
   "outputs": [],
   "source": [
    "df.Partie.max()"
   ]
  },
  {
   "cell_type": "code",
   "execution_count": null,
   "metadata": {
    "collapsed": false
   },
   "outputs": [],
   "source": [
    "_ = sns.heatmap(df[df.Vert > 0.2].corr(), square = True)"
   ]
  },
  {
   "cell_type": "code",
   "execution_count": null,
   "metadata": {
    "collapsed": false
   },
   "outputs": [],
   "source": [
    "_ = sns.heatmap(df[(df.Vert > 0.2) & (df.Partie >30)].corr(), square = True)"
   ]
  },
  {
   "cell_type": "code",
   "execution_count": null,
   "metadata": {
    "collapsed": false
   },
   "outputs": [],
   "source": [
    "_ = \"\"\"\n",
    "from biokit.viz import corrplot\n",
    "\n",
    "c1 = corrplot.Corrplot(df[df.Vainqueur == 1].corr())\n",
    "c1.plot(method = \"pie\")\n",
    "\n",
    "c1 = corrplot.Corrplot(df[df.Vainqueur == 0].corr())\n",
    "c1.plot(method = \"pie\")\n",
    "\"\"\""
   ]
  },
  {
   "cell_type": "code",
   "execution_count": null,
   "metadata": {
    "collapsed": false
   },
   "outputs": [],
   "source": [
    "df = pd.merge(scores[[\"Nb joueurs\", \"Rang relatif\", \"Vainqueur\", \"Partie\", \"Joueur\", \"Extension\", \"Leaders\", \n",
    "                       \"Ville\", \"Côté\"]], \n",
    "              couleurs_r.reset_index(),\n",
    "              on = [\"Partie\", \"Joueur\"]).set_index([\"Partie\", \"Joueur\"])\n",
    "\n",
    "df = df.reset_index()\n",
    "\n",
    "cols = list(df.columns)\n",
    "for c in {'Ville', 'Côté'}:\n",
    "    cols.remove(c)\n",
    "\n",
    "df[\"Côté\"][df.Ville.isnull()] = \"a\"\n",
    "df.Ville[df.Ville.isnull()] = \"none\"\n",
    "\n",
    "\n",
    "df.head()"
   ]
  },
  {
   "cell_type": "code",
   "execution_count": null,
   "metadata": {
    "collapsed": false,
    "scrolled": true
   },
   "outputs": [],
   "source": [
    "from IPython.html.widgets import interact\n",
    "\n",
    "mx = df.Partie.max()\n",
    "print(mx)\n",
    "Villes = tuple(df.Ville.unique())\n",
    "\n",
    "@interact\n",
    "def plot(ville = Villes, cote = [\"a\", \"b\"]):\n",
    "    if ville == \"none\":\n",
    "        print(\"Nombres de parties: %d\" % len(df.Partie.unique()))\n",
    "        _ = sns.heatmap(df[cols].corr(), square = True)\n",
    "        # print(df[(df.Ville == ville)][cols])\n",
    "    else:\n",
    "        cette_ville = (df.Ville == ville) & (df[\"Côté\"] == cote)\n",
    "        _ = sns.heatmap(df[cette_ville][cols].corr(), square = True)\n",
    "        print(u\"Nombre de parties gagnées / total: %d / %d\" %  \n",
    "              ((cette_ville & df.Vainqueur).sum(),\n",
    "               (cette_ville).sum()))\n",
    "        # print(df[(df.Ville == ville) & (df[\"Côté\"] == cote)][cols])"
   ]
  }
 ],
 "metadata": {
  "kernelspec": {
   "display_name": "Python 3",
   "language": "python",
   "name": "python3"
  },
  "language_info": {
   "codemirror_mode": {
    "name": "ipython",
    "version": 3
   },
   "file_extension": ".py",
   "mimetype": "text/x-python",
   "name": "python",
   "nbconvert_exporter": "python",
   "pygments_lexer": "ipython3",
   "version": "3.5.1"
  }
 },
 "nbformat": 4,
 "nbformat_minor": 0
}
